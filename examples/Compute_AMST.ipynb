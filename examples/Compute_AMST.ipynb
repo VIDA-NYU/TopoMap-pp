{
 "cells": [
  {
   "cell_type": "markdown",
   "metadata": {},
   "source": [
    "# Compute AMST\n",
    "\n",
    "Notebook showing how to compute an Aproximate Minimum Spanning Tree using our code using graph_degree = 100 and alpha = 1.3. \n",
    "For more parameters please go to the documentation"
   ]
  },
  {
   "cell_type": "code",
   "execution_count": 2,
   "metadata": {},
   "outputs": [],
   "source": [
    "import pandas as pd\n",
    "import numpy as np\n",
    "import time \n",
    "import sys\n",
    "sys.path.append('../')\n",
    "sys.path.append('../..')\n",
    "\n",
    "from topomap.dataset_utils import fvecs_read, silentremove\n",
    "from topomap.utils import build_mst_ann\n",
    "\n",
    "\n"
   ]
  },
  {
   "cell_type": "code",
   "execution_count": null,
   "metadata": {},
   "outputs": [],
   "source": [
    "from time import time \n",
    "import pandas as pd\n",
    "#alpha = 1.0 .... 1.5\n",
    "\n",
    "#complexity = 75 ... 200 (> R) \n",
    "\n",
    "#R = 60 ... 150 \n",
    "def compute_amst(datasets, alphas, Ls,  Rs):\n",
    "\n",
    "    times = []\n",
    "    for dataset_name in datasets:\n",
    "        points = fvecs_read(f'../data/fvec_datasets/{dataset_name}.fvec')\n",
    "        for alpha in alphas:\n",
    "            for complexity in Ls:\n",
    "                for graph_degree in Rs:\n",
    "                    \n",
    "                    amst_path = f'../data/amsts/AMST_{dataset_name}_R_{graph_degree}_L_{complexity}_A_{int(10*alpha)}.npy'\n",
    "                    begin = time()\n",
    "                    AMST = build_mst_ann(points = points, graph_degree= graph_degree, alpha = alpha, complexity = complexity)\n",
    "                    total_time = time()- begin\n",
    "                    dict_aux = {'dataset':dataset_name,'time':total_time, 'alpha':alpha, 'L':complexity , 'R':graph_degree}\n",
    "                    times.append(dict_aux)\n",
    "                    silentremove(amst_path)\n",
    "                    np.save(amst_path,AMST,allow_pickle= True)\n",
    "    \n",
    "    return pd.DataFrame.from_records(times)\n",
    "\n",
    "times = compute_amst(datasets =  ['Iris','Mfeat','Seeds','MNIST', 'BIGANN','Urban','LLM','StreetAware'],\n",
    "                     alphas = [1.0],\n",
    "                    Ls = [100],\n",
    "                     Rs = [100] )\n",
    "\n"
   ]
  }
 ],
 "metadata": {
  "kernelspec": {
   "display_name": "fresh",
   "language": "python",
   "name": "python3"
  },
  "language_info": {
   "codemirror_mode": {
    "name": "ipython",
    "version": 3
   },
   "file_extension": ".py",
   "mimetype": "text/x-python",
   "name": "python",
   "nbconvert_exporter": "python",
   "pygments_lexer": "ipython3",
   "version": "3.10.8"
  }
 },
 "nbformat": 4,
 "nbformat_minor": 2
}
