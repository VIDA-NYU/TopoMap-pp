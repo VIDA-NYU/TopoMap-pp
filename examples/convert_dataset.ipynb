{
 "cells": [
  {
   "cell_type": "code",
   "execution_count": 1,
   "metadata": {},
   "outputs": [],
   "source": [
    "import sys\n",
    "sys.path.append('../')\n",
    "sys.path.append('../..')\n",
    "from topomap import dataset_utils\n",
    "import numpy as np \n",
    "\n",
    "from ucimlrepo import fetch_ucirepo \n",
    "from keras.datasets import mnist\n",
    "import pandas as pd"
   ]
  },
  {
   "cell_type": "markdown",
   "metadata": {},
   "source": [
    "# Iris Dataset"
   ]
  },
  {
   "cell_type": "code",
   "execution_count": 3,
   "metadata": {},
   "outputs": [],
   "source": [
    "iris = fetch_ucirepo(id=53) \n",
    "\n",
    "\n",
    "# data (as pandas dataframes) \n",
    "X = iris.data.features \n",
    "y = iris.data.targets \n",
    "X = X.to_numpy()\n",
    "dataset_utils.fvecs_write(\"../data/fvec_datasets/Iris.fvec\", X)"
   ]
  },
  {
   "cell_type": "markdown",
   "metadata": {},
   "source": [
    "# Seeds"
   ]
  },
  {
   "cell_type": "code",
   "execution_count": 12,
   "metadata": {},
   "outputs": [],
   "source": [
    "data_seeds = pd.read_csv('../data/UCI/seeds/seeds_dataset.txt', sep='\\t',\n",
    "                         header=None,\n",
    "                         names=['x1','x2','x3','x4','x5','x6','x7','class'])\n",
    "\n",
    "X = data_seeds.copy().drop(['class'], axis=1)\n",
    "X = X.to_numpy()\n",
    "y = data_seeds[['class']]"
   ]
  },
  {
   "cell_type": "code",
   "execution_count": 14,
   "metadata": {},
   "outputs": [],
   "source": [
    "dataset_utils.fvecs_write(\"../data/fvec_datasets/Seeds.fvec\", X)"
   ]
  },
  {
   "cell_type": "markdown",
   "metadata": {},
   "source": [
    "# mfeat\n"
   ]
  },
  {
   "cell_type": "code",
   "execution_count": 25,
   "metadata": {},
   "outputs": [],
   "source": [
    "data_mfeat = pd.read_csv('../data/UCI/multiple+features/mfeat-kar', sep='\\s+',\n",
    "                         header=None,\n",
    "                         names=['x'+str(i) for i in range(1,65)])\n",
    "data_mfeat['class'] = 0\n",
    "for i, row in data_mfeat.iterrows():\n",
    "    data_mfeat.loc[i,'class'] = i//200\n",
    "\n",
    "X = data_mfeat.drop(['class'], axis=1)\n",
    "y = data_mfeat[['class']]\n",
    "X = X.to_numpy()\n",
    "dataset_utils.fvecs_write(\"../data/fvec_datasets/Mfeat.fvec\", X)"
   ]
  },
  {
   "cell_type": "markdown",
   "metadata": {},
   "source": [
    "# Mnist"
   ]
  },
  {
   "cell_type": "code",
   "execution_count": 4,
   "metadata": {},
   "outputs": [
    {
     "name": "stdout",
     "output_type": "stream",
     "text": [
      "(60000, 28, 28)\n",
      "(60000, 784)\n"
     ]
    }
   ],
   "source": [
    "(train_X, train_y), (test_X, test_y) = mnist.load_data()\n",
    "# print(train_X.shape)\n",
    "train_X = train_X.reshape(-1,28*28)\n",
    "mnist_sample = train_X[0:1000]\n",
    "\n",
    "dataset_utils.fvecs_write(\"../data/fvec_datasets/MNIST.fvec\",train_X)"
   ]
  }
 ],
 "metadata": {
  "kernelspec": {
   "display_name": "vamana",
   "language": "python",
   "name": "python3"
  },
  "language_info": {
   "codemirror_mode": {
    "name": "ipython",
    "version": 3
   },
   "file_extension": ".py",
   "mimetype": "text/x-python",
   "name": "python",
   "nbconvert_exporter": "python",
   "pygments_lexer": "ipython3",
   "version": "3.10.8"
  }
 },
 "nbformat": 4,
 "nbformat_minor": 2
}
